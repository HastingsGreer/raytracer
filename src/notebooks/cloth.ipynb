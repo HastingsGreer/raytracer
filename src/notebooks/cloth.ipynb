{
 "cells": [
  {
   "cell_type": "code",
   "execution_count": 87,
   "metadata": {
    "collapsed": false
   },
   "outputs": [],
   "source": [
    "import numpy as np\n",
    "\n",
    "\n",
    "\n",
    "\n",
    "\n",
    "x = np.linspace(-1, 1, 40)\n",
    "y = np.linspace(-1, 1, 40)\n",
    "\n",
    "constraintDist = 2/39\n",
    "x, y = np.meshgrid(x, y)\n",
    "z = np.zeros(x.shape)\n",
    "z = z + 2;\n",
    "dt = .01\n"
   ]
  },
  {
   "cell_type": "code",
   "execution_count": 88,
   "metadata": {
    "collapsed": false
   },
   "outputs": [],
   "source": [
    "r = np.array((x, y, z))"
   ]
  },
  {
   "cell_type": "code",
   "execution_count": 89,
   "metadata": {
    "collapsed": false
   },
   "outputs": [],
   "source": [
    "def dot(r1, r2):\n",
    "    return r1[0] * r2[0] + r1[1] * r2[1] + r1[2] * r2[2]"
   ]
  },
  {
   "cell_type": "code",
   "execution_count": 90,
   "metadata": {
    "collapsed": false
   },
   "outputs": [],
   "source": [
    "g = np.array([0, 0, -9.8]).reshape((3, 1, 1))"
   ]
  },
  {
   "cell_type": "code",
   "execution_count": null,
   "metadata": {
    "collapsed": false
   },
   "outputs": [],
   "source": []
  },
  {
   "cell_type": "code",
   "execution_count": 91,
   "metadata": {
    "collapsed": true
   },
   "outputs": [],
   "source": [
    "def integrate(r, oldr, acc, timestep, damping):\n",
    "    return r + damping * (r - oldr) + a * timestep * timestep\n",
    "\n",
    "def distanceConstraint(r1, r2, restlength, stiffness):\n",
    "    delta = x2 - x\n",
    "    deltalength = np.sqrt(dot(delta, delta))\n",
    "    diff = (deltalength - restlength) / deltalength\n",
    "    return delta * stiffness * diff\n",
    "\n",
    "def sphereConstraint(r, center, radius):\n",
    "    delta = r - center\n",
    "    dist = np.sqrt(dot(delta, delta))\n",
    "    mask = (dist < r)\n",
    "    r[:, mask] = center[:, mask] + delta[:, mask] * (radius / dist[:, mask])\n",
    "\n",
    "def floorConstraint(r, level):\n",
    "    mask = r[2] < level\n",
    "    r[2, mask] = level"
   ]
  },
  {
   "cell_type": "code",
   "execution_count": 97,
   "metadata": {
    "collapsed": true
   },
   "outputs": [],
   "source": [
    "\n",
    "\n",
    "\n",
    "def firstpass(r, oldr):\n",
    "    store_r = r.copy()\n",
    "    r = integrate(r, oldr, g, dx, .99)\n",
    "def secondpass():\n",
    "    global r, store_r, oldr\n",
    "    stiffness = .2\n",
    "    dx = np.zeros(r.shape)\n",
    "    dx[:, :, :-1] = distanceConstraint(r[:,:,:-1], r[:,:,1:], \n",
    "                                       constraintDist, stiffness)\n",
    "    \n",
    "    dx[:, :, 1:] = distanceConstraint(r[:,:,1:], r[:,:,:-1], \n",
    "                                       constraintDist, stiffness)\n",
    "    \n",
    "    dx[:, :-1, :] = distanceConstraint(r[:,:-1,:], r[:,1:,:], \n",
    "                                       constraintDist, stiffness)\n",
    "    \n",
    "    dx[:, 1:, :] = distanceConstraint(r[:,1:,:], r[:,:-1,:], \n",
    "                                       constraintDist, stiffness)\n",
    "    r = r + dx\n",
    "    \n",
    "    floorConstraint(r, spherepos, 1)\n",
    "    sphereConstraint(r, 0)\n",
    "    oldr = store_r\n",
    "    "
   ]
  },
  {
   "cell_type": "code",
   "execution_count": 98,
   "metadata": {
    "collapsed": true
   },
   "outputs": [],
   "source": [
    "spherepos = np.array([0, 0, 1]).reshape(3, 1, 1)"
   ]
  },
  {
   "cell_type": "code",
   "execution_count": 99,
   "metadata": {
    "collapsed": false
   },
   "outputs": [
    {
     "ename": "NameError",
     "evalue": "global name 'dx' is not defined",
     "output_type": "error",
     "traceback": [
      "\u001b[1;31m---------------------------------------------------------------------------\u001b[0m",
      "\u001b[1;31mNameError\u001b[0m                                 Traceback (most recent call last)",
      "\u001b[1;32m<ipython-input-99-454fa73f587f>\u001b[0m in \u001b[0;36m<module>\u001b[1;34m()\u001b[0m\n\u001b[0;32m      1\u001b[0m \u001b[1;32mimport\u001b[0m \u001b[0mmatplotlib\u001b[0m\u001b[1;33m.\u001b[0m\u001b[0mpyplot\u001b[0m \u001b[1;32mas\u001b[0m \u001b[0mplt\u001b[0m\u001b[1;33m\u001b[0m\u001b[0m\n\u001b[0;32m      2\u001b[0m \u001b[0moldr\u001b[0m \u001b[1;33m=\u001b[0m \u001b[0mr\u001b[0m \u001b[1;33m+\u001b[0m \u001b[1;36m.5\u001b[0m \u001b[1;33m*\u001b[0m \u001b[0mg\u001b[0m \u001b[1;33m*\u001b[0m \u001b[0mdt\u001b[0m \u001b[1;33m*\u001b[0m \u001b[0mdt\u001b[0m\u001b[1;33m\u001b[0m\u001b[0m\n\u001b[1;32m----> 3\u001b[1;33m \u001b[0mfirstpass\u001b[0m\u001b[1;33m(\u001b[0m\u001b[1;33m)\u001b[0m\u001b[1;33m\u001b[0m\u001b[0m\n\u001b[0m",
      "\u001b[1;32m<ipython-input-97-c369a19b985f>\u001b[0m in \u001b[0;36mfirstpass\u001b[1;34m()\u001b[0m\n\u001b[0;32m      5\u001b[0m     \u001b[1;32mglobal\u001b[0m \u001b[0mr\u001b[0m\u001b[1;33m,\u001b[0m \u001b[0mstore_r\u001b[0m\u001b[1;33m,\u001b[0m \u001b[0moldr\u001b[0m\u001b[1;33m\u001b[0m\u001b[0m\n\u001b[0;32m      6\u001b[0m     \u001b[0mstore_r\u001b[0m \u001b[1;33m=\u001b[0m \u001b[0mr\u001b[0m\u001b[1;33m.\u001b[0m\u001b[0mcopy\u001b[0m\u001b[1;33m(\u001b[0m\u001b[1;33m)\u001b[0m\u001b[1;33m\u001b[0m\u001b[0m\n\u001b[1;32m----> 7\u001b[1;33m     \u001b[0mr\u001b[0m \u001b[1;33m=\u001b[0m \u001b[0mintegrate\u001b[0m\u001b[1;33m(\u001b[0m\u001b[0mr\u001b[0m\u001b[1;33m,\u001b[0m \u001b[0moldr\u001b[0m\u001b[1;33m,\u001b[0m \u001b[0mg\u001b[0m\u001b[1;33m,\u001b[0m \u001b[0mdx\u001b[0m\u001b[1;33m,\u001b[0m \u001b[1;36m.99\u001b[0m\u001b[1;33m)\u001b[0m\u001b[1;33m\u001b[0m\u001b[0m\n\u001b[0m\u001b[0;32m      8\u001b[0m \u001b[1;32mdef\u001b[0m \u001b[0msecondpass\u001b[0m\u001b[1;33m(\u001b[0m\u001b[1;33m)\u001b[0m\u001b[1;33m:\u001b[0m\u001b[1;33m\u001b[0m\u001b[0m\n\u001b[0;32m      9\u001b[0m     \u001b[1;32mglobal\u001b[0m \u001b[0mr\u001b[0m\u001b[1;33m,\u001b[0m \u001b[0mstore_r\u001b[0m\u001b[1;33m,\u001b[0m \u001b[0moldr\u001b[0m\u001b[1;33m\u001b[0m\u001b[0m\n",
      "\u001b[1;31mNameError\u001b[0m: global name 'dx' is not defined"
     ]
    }
   ],
   "source": [
    "import matplotlib.pyplot as plt\n",
    "oldr = r + .5 * g * dt * dt\n",
    "firstpass()"
   ]
  },
  {
   "cell_type": "code",
   "execution_count": null,
   "metadata": {
    "collapsed": true
   },
   "outputs": [],
   "source": []
  }
 ],
 "metadata": {
  "kernelspec": {
   "display_name": "Python 2",
   "language": "python",
   "name": "python2"
  },
  "language_info": {
   "codemirror_mode": {
    "name": "ipython",
    "version": 2
   },
   "file_extension": ".py",
   "mimetype": "text/x-python",
   "name": "python",
   "nbconvert_exporter": "python",
   "pygments_lexer": "ipython2",
   "version": "2.7.6"
  }
 },
 "nbformat": 4,
 "nbformat_minor": 0
}
