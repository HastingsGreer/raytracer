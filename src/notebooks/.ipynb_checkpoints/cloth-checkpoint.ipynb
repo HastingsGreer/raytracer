{
 "cells": [
  {
   "cell_type": "code",
   "execution_count": 22,
   "metadata": {
    "collapsed": false
   },
   "outputs": [],
   "source": [
    "import numpy as np\n",
    "\n",
    "\n",
    "\n",
    "\n",
    "\n",
    "x = np.linspace(-1, 1, 40)\n",
    "y = np.linspace(-1, 1, 40)\n",
    "x, y = np.meshgrid(x, y)\n",
    "z = np.zeros(x.shape)\n",
    "z = z + 5;\n",
    "dt = .01\n",
    "\n",
    "class Bundle:\n",
    "    def __init__(self, x, y, z):\n",
    "        self.x = x\n",
    "        self.y = y\n",
    "        self.z = z\n",
    "    def __add__(self, other):\n",
    "        return Bundle(self.x + other.x, self.y + other.y, self.z + other.z)\n",
    "    \n",
    "    def __mul__(self, other):\n",
    "        if isinstance(other, Bundle):\n",
    "            return self.x * other.x + self.y * other.y + self.z * other.z\n",
    "        return Bundle(self.x * other, self.y * other, self.z * other)\n",
    "    def __div__(self, k):\n",
    "        return self * (1 / k)\n",
    "def matTrans(matrix, bundle):\n",
    "    return Bundle(\n",
    "           Bundle(matrix[0, 0], matrix[0, 1], matrix[0, 2]) * bundle, \n",
    "           Bundle(matrix[1, 0], matrix[1, 1], matrix[1, 2]) * bundle,\n",
    "           Bundle(matrix[2, 0], matrix[2, 1], matrix[2, 2]) * bundle,\n",
    "    )"
   ]
  },
  {
   "cell_type": "code",
   "execution_count": 3,
   "metadata": {
    "collapsed": false
   },
   "outputs": [],
   "source": [
    "import pyopencl as cl\n",
    "from __future__ import absolute_import, print_function\n"
   ]
  },
  {
   "cell_type": "code",
   "execution_count": 4,
   "metadata": {
    "collapsed": false
   },
   "outputs": [],
   "source": [
    "platform = cl.get_platforms()"
   ]
  },
  {
   "cell_type": "code",
   "execution_count": 20,
   "metadata": {
    "collapsed": false
   },
   "outputs": [
    {
     "data": {
      "text/plain": [
       "'cl_khr_icd cl_amd_event_callback cl_amd_offline_devices '"
      ]
     },
     "execution_count": 20,
     "metadata": {},
     "output_type": "execute_result"
    }
   ],
   "source": [
    "platform[0].get_info(cl.platform_info.EXTENSIONS\n",
    "                )"
   ]
  },
  {
   "cell_type": "code",
   "execution_count": 13,
   "metadata": {
    "collapsed": false
   },
   "outputs": [],
   "source": [
    "\n",
    "\n",
    "ctx = cl.create_some_context()\n",
    "queue = cl.CommandQueue(ctx)\n",
    "mf = cl.mem_flags"
   ]
  },
  {
   "cell_type": "code",
   "execution_count": 23,
   "metadata": {
    "collapsed": false
   },
   "outputs": [
    {
     "data": {
      "text/plain": [
       "[<pyopencl.Device 'Intel(R) Core(TM) i5-3337U CPU @ 1.80GHz' on 'AMD Accelerated Parallel Processing' at 0x195bfa0>]"
      ]
     },
     "execution_count": 23,
     "metadata": {},
     "output_type": "execute_result"
    }
   ],
   "source": [
    "ctx.devices"
   ]
  },
  {
   "cell_type": "code",
   "execution_count": 25,
   "metadata": {
    "collapsed": false
   },
   "outputs": [],
   "source": [
    "r = np.array((x, y, z))"
   ]
  },
  {
   "cell_type": "code",
   "execution_count": 61,
   "metadata": {
    "collapsed": false
   },
   "outputs": [],
   "source": [
    "def dot(r1, r2):\n",
    "    return r1[0] * r2[0] + r1[1] * r2[1] + r1[2] * r2[2]"
   ]
  },
  {
   "cell_type": "code",
   "execution_count": 31,
   "metadata": {
    "collapsed": false
   },
   "outputs": [
    {
     "data": {
      "text/plain": [
       "(3, 40, 40)"
      ]
     },
     "execution_count": 31,
     "metadata": {},
     "output_type": "execute_result"
    }
   ],
   "source": [
    "r.shape"
   ]
  },
  {
   "cell_type": "code",
   "execution_count": 32,
   "metadata": {
    "collapsed": false
   },
   "outputs": [
    {
     "data": {
      "text/plain": [
       "(40, 40)"
      ]
     },
     "execution_count": 32,
     "metadata": {},
     "output_type": "execute_result"
    }
   ],
   "source": [
    "lengths.shape"
   ]
  },
  {
   "cell_type": "code",
   "execution_count": 37,
   "metadata": {
    "collapsed": false
   },
   "outputs": [],
   "source": [
    "g = np.array([0, 0, -9.8]).reshape((3, 1, 1))"
   ]
  },
  {
   "cell_type": "code",
   "execution_count": 69,
   "metadata": {
    "collapsed": false
   },
   "outputs": [],
   "source": [
    "import matplotlib.pyplot as plt\n",
    "delta = r + g/2\n",
    "dist = np.sqrt(dot(delta, delta))\n",
    "mask = (dist < 1)\n",
    "delta[:, mask] = 0\n",
    "plt.imshow(delta[2])\n",
    "plt.show()"
   ]
  },
  {
   "cell_type": "code",
   "execution_count": 70,
   "metadata": {
    "collapsed": true
   },
   "outputs": [],
   "source": [
    "def integrate(r, oldr, acc, timestep, damping):\n",
    "    return r + damping * (r - oldr) + a * timestep * timestep\n",
    "\n",
    "def distanceConstraint(r1, r2, restlength, stiffness):\n",
    "    delta = x2 - x\n",
    "    deltalength = np.sqrt(dot(delta, delta))\n",
    "    diff = (deltalength - restlength) / deltalength\n",
    "    return delta * stiffness * diff\n",
    "\n",
    "def sphereConstraint(r, center, radius):\n",
    "    delta = r - center\n",
    "    dist = np.sqrt(dot(delta, delta))\n",
    "    mask = (dist < r)\n",
    "    r[:, mask] = center[:, mask] + delta[:, mask] * (radius / dist[:, mask])\n",
    "\n",
    "def floorConstraint(r, level):\n",
    "    mask = r[2] < level\n",
    "    r[2, mask] = level"
   ]
  },
  {
   "cell_type": "code",
   "execution_count": null,
   "metadata": {
    "collapsed": true
   },
   "outputs": [],
   "source": [
    "def firstpass():\n",
    "    store_r = r.copy()\n",
    "    r = integrate(r, oldr, g, dx, .99)\n",
    "def secondpass():\n",
    "    stiffness = .2\n",
    "    dx = np.zeros(r.shape)\n",
    "    dx[:, :, :-1] = distanceConstraint(r[:,:,:-1], r[:,:,1:], \n",
    "                                       constraintDist, stiffness)\n",
    "    \n",
    "    dx[:, :, 1:] = distanceConstraint(r[:,:,1:], r[:,:,:-1], \n",
    "                                       constraintDist, stiffness)\n",
    "    \n",
    "    dx[:, :-1, :] = distanceConstraint(r[:,:-1,:], r[:,1:,:], \n",
    "                                       constraintDist, stiffness)\n",
    "    \n",
    "    dx[:, 1:, :] = distanceConstraint(r[:,1:,:], r[:,:-1,:], \n",
    "                                       constraintDist, stiffness)\n",
    "    r = r + dx\n",
    "    \n",
    "    floorConstraint(r, spherepos, 1)\n",
    "    sphereConstraint(r, 0)\n",
    "    oldr = store_r\n",
    "    "
   ]
  }
 ],
 "metadata": {
  "kernelspec": {
   "display_name": "Python 2",
   "language": "python",
   "name": "python2"
  },
  "language_info": {
   "codemirror_mode": {
    "name": "ipython",
    "version": 2
   },
   "file_extension": ".py",
   "mimetype": "text/x-python",
   "name": "python",
   "nbconvert_exporter": "python",
   "pygments_lexer": "ipython2",
   "version": "2.7.6"
  }
 },
 "nbformat": 4,
 "nbformat_minor": 0
}
